{
  "nbformat": 4,
  "nbformat_minor": 0,
  "metadata": {
    "colab": {
      "provenance": []
    },
    "kernelspec": {
      "name": "python3",
      "display_name": "Python 3"
    },
    "language_info": {
      "name": "python"
    }
  },
  "cells": [
    {
      "cell_type": "code",
      "source": [
        "import pandas as pd"
      ],
      "metadata": {
        "id": "H6coGZxDVl_N"
      },
      "execution_count": 1,
      "outputs": []
    },
    {
      "cell_type": "markdown",
      "source": [
        "Приложением в декабре воспользовались 15 человек. Ниже показано, сколько раз каждый из них заходил в приложение за декабрь. Одно число соответствует числу запусков приложения за месяц одним пользователем\n",
        "\n",
        "1, 1, 2, 5, 6, 7, 8, 12, 20, 25, 57, 118, 212, 381, 423\n",
        "\n",
        "Каково среднее арифметическое количество использований приложения на пользователя в месяц в декабре?"
      ],
      "metadata": {
        "id": "ONo8MBdqZrAM"
      }
    },
    {
      "cell_type": "code",
      "execution_count": 2,
      "metadata": {
        "colab": {
          "base_uri": "https://localhost:8080/"
        },
        "id": "ckY8uwlKVb-R",
        "outputId": "54f6fda4-12d2-409a-b2ca-c02b3e70fe68"
      },
      "outputs": [
        {
          "output_type": "execute_result",
          "data": {
            "text/plain": [
              "0    85.2\n",
              "dtype: float64"
            ]
          },
          "metadata": {},
          "execution_count": 2
        }
      ],
      "source": [
        "df = pd.DataFrame([1, 1, 2, 5, 6, 7, 8, 12, 20, 25, 57, 118, 212, 381, 423])\n",
        "df.mean()"
      ]
    },
    {
      "cell_type": "markdown",
      "source": [
        "Конверсия сайта с браузера “Safari” равна 1.821%, количество покупателей — 712. Сколько было посетителей?"
      ],
      "metadata": {
        "id": "g0L1llt8Zut3"
      }
    },
    {
      "cell_type": "code",
      "source": [
        "conv = 1.821\n",
        "buy = 712\n",
        "all = buy / conv * 100\n",
        "all"
      ],
      "metadata": {
        "colab": {
          "base_uri": "https://localhost:8080/"
        },
        "id": "jx14U4jZVft9",
        "outputId": "3d004b03-4cf3-4c86-b7e8-d543a094c1aa"
      },
      "execution_count": 3,
      "outputs": [
        {
          "output_type": "execute_result",
          "data": {
            "text/plain": [
              "39099.39593629874"
            ]
          },
          "metadata": {},
          "execution_count": 3
        }
      ]
    },
    {
      "cell_type": "markdown",
      "source": [
        "1 декабря в приложение пришли 1000 новых пользователей. 2 декабря 400 из них зашли в приложение. 3 декабря его запустили 300 из 1000 новых пользователей, которые пришли 1 октября. 150 пользователей из этих 300 были в приложении 2 декабря, а 150 не были.\n",
        "\n",
        "Чему равен Retention 2-го дня для пользователей, которые пришли 1 декабря?"
      ],
      "metadata": {
        "id": "ab1SSzIHZz_B"
      }
    },
    {
      "cell_type": "code",
      "source": [
        "300 / 1000"
      ],
      "metadata": {
        "colab": {
          "base_uri": "https://localhost:8080/"
        },
        "id": "UWzDSepjaFq9",
        "outputId": "e6fa4e24-ee3c-42b3-df22-51fa80bdffbf"
      },
      "execution_count": 4,
      "outputs": [
        {
          "output_type": "execute_result",
          "data": {
            "text/plain": [
              "0.3"
            ]
          },
          "metadata": {},
          "execution_count": 4
        }
      ]
    },
    {
      "cell_type": "markdown",
      "source": [
        "У нас есть два приложения.\n",
        "\n",
        "Месячный Retention первого: 0 месяц – 100%, 1 месяц – 70%, 2 месяц – 40%, 3 месяц и далее – 30%. Месячный Retention второго: 0 месяц – 100%, 1 месяц – 90%, 2 месяц – 85%, 3 месяц и далее – 80%.\n",
        "\n",
        "Мы запускаем оба приложения одновременно. В первое каждый месяц приходит по 4000 новых пользователей, во второе – по 1000. Давайте предположим, что так будет продолжаться следующие 10 лет.\n",
        "\n",
        "Сначала из-за большего числа новых пользователей месячная аудитория первого приложения будет выше второго. Это очевидно. Сохранится ли это преимущество через 10 лет?"
      ],
      "metadata": {
        "id": "nm-jMAd6aFTL"
      }
    },
    {
      "cell_type": "code",
      "source": [
        "first = 4000 * (0.3 * 120 + 0.1 * 9 + 0.3 * 3 + 1)\n",
        "second = 1000 * (0.8 * 120 + 0.05 * 9 + 0.05 * 3 + 1)\n",
        "first > second"
      ],
      "metadata": {
        "colab": {
          "base_uri": "https://localhost:8080/"
        },
        "id": "G5J-XyhjV6NM",
        "outputId": "0a003195-f56e-4ba2-dbac-e49afa5f953f"
      },
      "execution_count": 5,
      "outputs": [
        {
          "output_type": "execute_result",
          "data": {
            "text/plain": [
              "True"
            ]
          },
          "metadata": {},
          "execution_count": 5
        }
      ]
    },
    {
      "cell_type": "markdown",
      "source": [
        "У нас есть SQL-запрос.\n",
        "\n",
        "```\n",
        "select clinic_name, min_price\n",
        "from clinics\n",
        "where min_price<1000\n",
        "and location='м. Невский проспект'\n",
        "order by min_price desc\n",
        "```\n",
        "\n",
        "Опишите порядок выполнения запроса."
      ],
      "metadata": {
        "id": "wM05W1B4aP_P"
      }
    },
    {
      "cell_type": "markdown",
      "source": [
        "\tFROM (выбор таблицы) - WHERE (фильтрация строк) - SELECT (возврат результирующего датасета) - ORDER BY (сортировка)"
      ],
      "metadata": {
        "id": "IQMhCECTafQW"
      }
    },
    {
      "cell_type": "markdown",
      "source": [
        "Мы бросаем игральную кость с 20 гранями. На гранях написаны числа от 1 до 20,\n",
        "\n",
        "все грани выпадают с равной вероятностью. Какова вероятность того, что выпавшее число будет делиться на 3?"
      ],
      "metadata": {
        "id": "U543i4WUaxrh"
      }
    },
    {
      "cell_type": "markdown",
      "source": [
        "Всего чисел - 20.\n",
        "Кратных 3-м - 6.\n",
        "Вероятность\n",
        "```6 / 20 = 0.3```"
      ],
      "metadata": {
        "id": "8xMk3zU9axo9"
      }
    }
  ]
}